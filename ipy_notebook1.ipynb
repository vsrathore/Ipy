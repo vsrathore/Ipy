{
 "cells": [
  {
   "cell_type": "code",
   "execution_count": null,
   "metadata": {
    "collapsed": true
   },
   "outputs": [],
   "source": [
    "from sklearn.linear_model import LinearRegression\n"
   ]
  },
  {
   "cell_type": "code",
   "execution_count": null,
   "metadata": {
    "collapsed": true
   },
   "outputs": [],
   "source": [
    "X = [ [6], [8], [10], [14], [18] ]\n",
    "Y = [ [7], [9], [13], [17.5], [18] ]\n",
    "\n",
    "X_test = [ [8], [9], [11], [16], [12] ]\n",
    "Y_test = [ [11], [8.5], [15], [18], [11] ]"
   ]
  },
  {
   "cell_type": "code",
   "execution_count": null,
   "metadata": {
    "collapsed": true
   },
   "outputs": [],
   "source": [
    "model = LinearRegression()                #Declaring which type of model to use, sing Linear Regression Model\n",
    "\n",
    "model.fit(X,Y)                            #Fitting model"
   ]
  },
  {
   "cell_type": "code",
   "execution_count": null,
   "metadata": {
    "collapsed": true
   },
   "outputs": [],
   "source": [
    "model_score = model.score(X_test, Y_test) #Testing model\n",
    "\n",
    "model_predict = model.predict(12)         #Predicting value using trained model"
   ]
  },
  {
   "cell_type": "code",
   "execution_count": null,
   "metadata": {
    "collapsed": true
   },
   "outputs": [],
   "source": [
    "print \"Score : \" , model_score\n",
    "print \"Predicted for x_value(12): \" , model_predict\n"
   ]
  },
  {
   "cell_type": "code",
   "execution_count": null,
   "metadata": {
    "collapsed": true
   },
   "outputs": [],
   "source": [
    "predict_x = model.predict(X_test)\n",
    "\n",
    "for i in range(len(predict_x)):\n",
    "    print 'Prdicted :' ,round(predict_x[i][0],2) ,'Actual :', round(Y_test[i][0],2)\n",
    "\n",
    "print \"Score : \" , model_score"
   ]
  }
 ],
 "metadata": {
  "kernelspec": {
   "display_name": "Python 2",
   "language": "python",
   "name": "python2"
  },
  "language_info": {
   "codemirror_mode": {
    "name": "ipython",
    "version": 2
   },
   "file_extension": ".py",
   "mimetype": "text/x-python",
   "name": "python",
   "nbconvert_exporter": "python",
   "pygments_lexer": "ipython2",
   "version": "2.7.8"
  }
 },
 "nbformat": 4,
 "nbformat_minor": 0
}
